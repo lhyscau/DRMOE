{
 "cells": [
  {
   "cell_type": "code",
   "execution_count": 6,
   "metadata": {},
   "outputs": [],
   "source": [
    "import jsonlines\n",
    "import os\n",
    "import numpy as np\n",
    "import pandas as pd\n",
    "from utils import read_data, extract_data, partition\n",
    "from evaluation import calculate_score, process_CTC"
   ]
  },
  {
   "cell_type": "code",
   "execution_count": 7,
   "metadata": {},
   "outputs": [],
   "source": [
    "task_list=('CMeIE', 'CHIP-CDN', 'CHIP-CDEE', 'CHIP-MDCFNPC',\n",
    "           'CHIP-CTC', 'KUAKE-QIC',\n",
    "           'IMCS-V2-MRG', 'MedDG',)\n",
    "pred_path = \"pred\"\n",
    "true_path = \"true\""
   ]
  },
  {
   "cell_type": "code",
   "execution_count": 8,
   "metadata": {},
   "outputs": [],
   "source": [
    "target_list = [\"test_predictions.json\"]"
   ]
  },
  {
   "cell_type": "code",
   "execution_count": 9,
   "metadata": {},
   "outputs": [
    {
     "data": {
      "text/plain": [
       "{'test_predictions.json': []}"
      ]
     },
     "execution_count": 9,
     "metadata": {},
     "output_type": "execute_result"
    }
   ],
   "source": [
    "score_dict = {target: [] for target in target_list}\n",
    "score_dict"
   ]
  },
  {
   "cell_type": "code",
   "execution_count": 5,
   "metadata": {},
   "outputs": [
    {
     "name": "stderr",
     "output_type": "stream",
     "text": [
      "100%|██████████| 6560/6560 [00:00<00:00, 3065355.86it/s]\n",
      "100%|██████████| 600/600 [00:00<00:00, 2469658.88it/s]\n"
     ]
    },
    {
     "ename": "ZeroDivisionError",
     "evalue": "division by zero",
     "output_type": "error",
     "traceback": [
      "\u001b[0;31m---------------------------------------------------------------------------\u001b[0m",
      "\u001b[0;31mZeroDivisionError\u001b[0m                         Traceback (most recent call last)",
      "Cell \u001b[0;32mIn[5], line 24\u001b[0m\n\u001b[1;32m     21\u001b[0m \u001b[38;5;28;01melse\u001b[39;00m:\n\u001b[1;32m     22\u001b[0m     post_process_function \u001b[38;5;241m=\u001b[39m \u001b[38;5;28;01mNone\u001b[39;00m\n\u001b[0;32m---> 24\u001b[0m score, labels, _ \u001b[38;5;241m=\u001b[39m \u001b[43mcalculate_score\u001b[49m\u001b[43m(\u001b[49m\u001b[43mtask\u001b[49m\u001b[43m,\u001b[49m\u001b[43m \u001b[49m\u001b[43mpp\u001b[49m\u001b[43m,\u001b[49m\u001b[43m \u001b[49m\u001b[43mtp\u001b[49m\u001b[43m,\u001b[49m\u001b[43m \u001b[49m\u001b[43mpost_process_function\u001b[49m\u001b[43m)\u001b[49m\n\u001b[1;32m     25\u001b[0m score_dict[target]\u001b[38;5;241m.\u001b[39mappend(score)\n\u001b[1;32m     26\u001b[0m label_dict[task] \u001b[38;5;241m=\u001b[39m labels\n",
      "File \u001b[0;32m/mnt/e/Project/MOELoRA-peft/results/evaluation.py:91\u001b[0m, in \u001b[0;36mcalculate_score\u001b[0;34m(task, pred_path, truth_path, post_process)\u001b[0m\n\u001b[1;32m     85\u001b[0m     \u001b[38;5;28;01mreturn\u001b[39;00m score2, np\u001b[38;5;241m.\u001b[39munique(true_data), score1  \u001b[38;5;66;03m# detail results, average_results\u001b[39;00m\n\u001b[1;32m     87\u001b[0m \u001b[38;5;28;01melif\u001b[39;00m (task \u001b[38;5;241m==\u001b[39m \u001b[38;5;124m\"\u001b[39m\u001b[38;5;124mCMeEE-V2\u001b[39m\u001b[38;5;124m\"\u001b[39m) \u001b[38;5;241m|\u001b[39m (task \u001b[38;5;241m==\u001b[39m \u001b[38;5;124m\"\u001b[39m\u001b[38;5;124mIMCS-V2-NER\u001b[39m\u001b[38;5;124m\"\u001b[39m) \u001b[38;5;241m|\u001b[39m (task \u001b[38;5;241m==\u001b[39m \u001b[38;5;124m\"\u001b[39m\u001b[38;5;124mCMeIE\u001b[39m\u001b[38;5;124m\"\u001b[39m) \u001b[38;5;241m|\u001b[39m \\\n\u001b[1;32m     88\u001b[0m      (task \u001b[38;5;241m==\u001b[39m \u001b[38;5;124m\"\u001b[39m\u001b[38;5;124mCHIP-CDEE\u001b[39m\u001b[38;5;124m\"\u001b[39m) \u001b[38;5;241m|\u001b[39m (task \u001b[38;5;241m==\u001b[39m \u001b[38;5;124m\"\u001b[39m\u001b[38;5;124mIMCS-V2-SR\u001b[39m\u001b[38;5;124m\"\u001b[39m) \u001b[38;5;241m|\u001b[39m (task \u001b[38;5;241m==\u001b[39m \u001b[38;5;124m\"\u001b[39m\u001b[38;5;124mCHIP-MDCFNPC\u001b[39m\u001b[38;5;124m\"\u001b[39m) \u001b[38;5;241m|\u001b[39m \\\n\u001b[1;32m     89\u001b[0m      (task \u001b[38;5;241m==\u001b[39m \u001b[38;5;124m\"\u001b[39m\u001b[38;5;124mCHIP-CDN\u001b[39m\u001b[38;5;124m\"\u001b[39m):\n\u001b[0;32m---> 91\u001b[0m     f1, precision, recall \u001b[38;5;241m=\u001b[39m \u001b[43mcalculate_ner_f1\u001b[49m\u001b[43m(\u001b[49m\u001b[43mtrue_data\u001b[49m\u001b[43m,\u001b[49m\u001b[43m \u001b[49m\u001b[43mpred_data\u001b[49m\u001b[43m)\u001b[49m\n\u001b[1;32m     93\u001b[0m     \u001b[38;5;28;01mreturn\u001b[39;00m f1, precision, recall\n\u001b[1;32m     95\u001b[0m \u001b[38;5;28;01melif\u001b[39;00m (task \u001b[38;5;241m==\u001b[39m \u001b[38;5;124m\"\u001b[39m\u001b[38;5;124mMedDG\u001b[39m\u001b[38;5;124m\"\u001b[39m):\n",
      "File \u001b[0;32m/mnt/e/Project/MOELoRA-peft/results/evaluation.py:40\u001b[0m, in \u001b[0;36mcalculate_ner_f1\u001b[0;34m(true_list, pred_list)\u001b[0m\n\u001b[1;32m     37\u001b[0m         \u001b[38;5;28;01mif\u001b[39;00m meta_pred \u001b[38;5;129;01mnot\u001b[39;00m \u001b[38;5;129;01min\u001b[39;00m true_list[i]:\n\u001b[1;32m     38\u001b[0m             FP \u001b[38;5;241m+\u001b[39m\u001b[38;5;241m=\u001b[39m \u001b[38;5;241m1\u001b[39m\n\u001b[0;32m---> 40\u001b[0m precision \u001b[38;5;241m=\u001b[39m \u001b[43mTP\u001b[49m\u001b[43m \u001b[49m\u001b[38;5;241;43m/\u001b[39;49m\u001b[43m \u001b[49m\u001b[43m(\u001b[49m\u001b[43mTP\u001b[49m\u001b[43m \u001b[49m\u001b[38;5;241;43m+\u001b[39;49m\u001b[43m \u001b[49m\u001b[43mFP\u001b[49m\u001b[43m)\u001b[49m\n\u001b[1;32m     41\u001b[0m recall \u001b[38;5;241m=\u001b[39m TP \u001b[38;5;241m/\u001b[39m (TP \u001b[38;5;241m+\u001b[39m FN)\n\u001b[1;32m     42\u001b[0m f1 \u001b[38;5;241m=\u001b[39m \u001b[38;5;241m2\u001b[39m \u001b[38;5;241m*\u001b[39m precision \u001b[38;5;241m*\u001b[39m recall \u001b[38;5;241m/\u001b[39m (precision \u001b[38;5;241m+\u001b[39m recall)\n",
      "\u001b[0;31mZeroDivisionError\u001b[0m: division by zero"
     ]
    }
   ],
   "source": [
    "score_dict = {target: [] for target in target_list}\n",
    "label_dict = {}\n",
    "\n",
    "for target in target_list:\n",
    "    target_path = os.path.join(pred_path, target)   #pred/task_predictions.json\n",
    "    \n",
    "    if not os.path.exists(os.path.join(pred_path, task_list[0])):  # needs partition\n",
    "        # all_data = read_data(os.path.join(os.path.join(pred_path, \"test_predictions.json\"))\n",
    "        all_data = read_data(target_path)\n",
    "        partition(extract_data(all_data), task_list, pred_path)\n",
    "    \n",
    "    for task in task_list:\n",
    "\n",
    "        pp = os.path.join(target_path, task)\n",
    "        tp = os.path.join(true_path, task)\n",
    "        pp = os.path.join(\"pred\", \"test_predictions.json\")      #pred_path\n",
    "        tp = os.path.join(\"true\", \"test.json\")       #truth_path\n",
    "\n",
    "        if task == \"CHIP-CTC\":  # CTC needs post process\n",
    "            post_process_function = process_CTC\n",
    "        else:\n",
    "            post_process_function = None\n",
    "\n",
    "        score, labels, _ = calculate_score(task, pp, tp, post_process_function)\n",
    "        score_dict[target].append(score)\n",
    "        label_dict[task] = labels"
   ]
  },
  {
   "cell_type": "code",
   "execution_count": 8,
   "metadata": {},
   "outputs": [
    {
     "name": "stdout",
     "output_type": "stream",
     "text": [
      "extract conpletion\n"
     ]
    },
    {
     "ename": "FileNotFoundError",
     "evalue": "[Errno 2] No such file or directory: 'true/CMeIE/lhy/MOELoRA-peft/datasets/test.json'",
     "output_type": "error",
     "traceback": [
      "\u001b[0;31m---------------------------------------------------------------------------\u001b[0m",
      "\u001b[0;31mFileNotFoundError\u001b[0m                         Traceback (most recent call last)",
      "Cell \u001b[0;32mIn[8], line 52\u001b[0m\n\u001b[1;32m     49\u001b[0m extracted_data \u001b[38;5;241m=\u001b[39m extract_data(all_data)\n\u001b[1;32m     51\u001b[0m \u001b[38;5;66;03m# 分区并保存数据\u001b[39;00m\n\u001b[0;32m---> 52\u001b[0m \u001b[43mpartition\u001b[49m\u001b[43m(\u001b[49m\u001b[43mextracted_data\u001b[49m\u001b[43m,\u001b[49m\u001b[43m \u001b[49m\u001b[43mtask_list\u001b[49m\u001b[43m,\u001b[49m\u001b[43m \u001b[49m\u001b[43mtrue_path\u001b[49m\u001b[43m)\u001b[49m\n",
      "Cell \u001b[0;32mIn[8], line 41\u001b[0m, in \u001b[0;36mpartition\u001b[0;34m(data_dict, task_list, output_path)\u001b[0m\n\u001b[1;32m     38\u001b[0m \u001b[38;5;28;01mif\u001b[39;00m \u001b[38;5;129;01mnot\u001b[39;00m os\u001b[38;5;241m.\u001b[39mpath\u001b[38;5;241m.\u001b[39mexists(task_path):\n\u001b[1;32m     39\u001b[0m     os\u001b[38;5;241m.\u001b[39mmakedirs(task_path)\n\u001b[0;32m---> 41\u001b[0m \u001b[43msave_data\u001b[49m\u001b[43m(\u001b[49m\u001b[43mos\u001b[49m\u001b[38;5;241;43m.\u001b[39;49m\u001b[43mpath\u001b[49m\u001b[38;5;241;43m.\u001b[39;49m\u001b[43mjoin\u001b[49m\u001b[43m(\u001b[49m\u001b[43mtask_path\u001b[49m\u001b[43m,\u001b[49m\u001b[43m \u001b[49m\u001b[38;5;124;43m\"\u001b[39;49m\u001b[38;5;124;43mlhy/MOELoRA-peft/datasets/test.json\u001b[39;49m\u001b[38;5;124;43m\"\u001b[39;49m\u001b[43m)\u001b[49m\u001b[43m,\u001b[49m\u001b[43m \u001b[49m\u001b[43mdata_dict\u001b[49m\u001b[43m[\u001b[49m\u001b[43mtask\u001b[49m\u001b[43m]\u001b[49m\u001b[43m)\u001b[49m\n",
      "Cell \u001b[0;32mIn[8], line 17\u001b[0m, in \u001b[0;36msave_data\u001b[0;34m(data_path, data)\u001b[0m\n\u001b[1;32m     16\u001b[0m \u001b[38;5;28;01mdef\u001b[39;00m \u001b[38;5;21msave_data\u001b[39m(data_path, data):\n\u001b[0;32m---> 17\u001b[0m     \u001b[38;5;28;01mwith\u001b[39;00m \u001b[43mjsonlines\u001b[49m\u001b[38;5;241;43m.\u001b[39;49m\u001b[43mopen\u001b[49m\u001b[43m(\u001b[49m\u001b[43mdata_path\u001b[49m\u001b[43m,\u001b[49m\u001b[43m \u001b[49m\u001b[38;5;124;43m\"\u001b[39;49m\u001b[38;5;124;43mw\u001b[39;49m\u001b[38;5;124;43m\"\u001b[39;49m\u001b[43m)\u001b[49m \u001b[38;5;28;01mas\u001b[39;00m w:\n\u001b[1;32m     18\u001b[0m         \u001b[38;5;28;01mfor\u001b[39;00m meta_data \u001b[38;5;129;01min\u001b[39;00m data:\n\u001b[1;32m     19\u001b[0m             w\u001b[38;5;241m.\u001b[39mwrite(meta_data)\n",
      "File \u001b[0;32m~/anaconda3/envs/moelora/lib/python3.9/site-packages/jsonlines/jsonlines.py:627\u001b[0m, in \u001b[0;36mopen\u001b[0;34m(file, mode, loads, dumps, compact, sort_keys, flush)\u001b[0m\n\u001b[1;32m    625\u001b[0m \u001b[38;5;28mcls\u001b[39m \u001b[38;5;241m=\u001b[39m Reader \u001b[38;5;28;01mif\u001b[39;00m mode \u001b[38;5;241m==\u001b[39m \u001b[38;5;124m\"\u001b[39m\u001b[38;5;124mr\u001b[39m\u001b[38;5;124m\"\u001b[39m \u001b[38;5;28;01melse\u001b[39;00m Writer\n\u001b[1;32m    626\u001b[0m encoding \u001b[38;5;241m=\u001b[39m \u001b[38;5;124m\"\u001b[39m\u001b[38;5;124mutf-8-sig\u001b[39m\u001b[38;5;124m\"\u001b[39m \u001b[38;5;28;01mif\u001b[39;00m mode \u001b[38;5;241m==\u001b[39m \u001b[38;5;124m\"\u001b[39m\u001b[38;5;124mr\u001b[39m\u001b[38;5;124m\"\u001b[39m \u001b[38;5;28;01melse\u001b[39;00m \u001b[38;5;124m\"\u001b[39m\u001b[38;5;124mutf-8\u001b[39m\u001b[38;5;124m\"\u001b[39m\n\u001b[0;32m--> 627\u001b[0m fp \u001b[38;5;241m=\u001b[39m \u001b[43mbuiltins\u001b[49m\u001b[38;5;241;43m.\u001b[39;49m\u001b[43mopen\u001b[49m\u001b[43m(\u001b[49m\u001b[43mfile\u001b[49m\u001b[43m,\u001b[49m\u001b[43m \u001b[49m\u001b[43mmode\u001b[49m\u001b[38;5;241;43m=\u001b[39;49m\u001b[43mmode\u001b[49m\u001b[43m \u001b[49m\u001b[38;5;241;43m+\u001b[39;49m\u001b[43m \u001b[49m\u001b[38;5;124;43m\"\u001b[39;49m\u001b[38;5;124;43mt\u001b[39;49m\u001b[38;5;124;43m\"\u001b[39;49m\u001b[43m,\u001b[49m\u001b[43m \u001b[49m\u001b[43mencoding\u001b[49m\u001b[38;5;241;43m=\u001b[39;49m\u001b[43mencoding\u001b[49m\u001b[43m)\u001b[49m\n\u001b[1;32m    628\u001b[0m kwargs \u001b[38;5;241m=\u001b[39m \u001b[38;5;28mdict\u001b[39m(\n\u001b[1;32m    629\u001b[0m     loads\u001b[38;5;241m=\u001b[39mloads,\n\u001b[1;32m    630\u001b[0m     dumps\u001b[38;5;241m=\u001b[39mdumps,\n\u001b[0;32m   (...)\u001b[0m\n\u001b[1;32m    633\u001b[0m     flush\u001b[38;5;241m=\u001b[39mflush,\n\u001b[1;32m    634\u001b[0m )\n\u001b[1;32m    635\u001b[0m kwargs \u001b[38;5;241m=\u001b[39m {key: value \u001b[38;5;28;01mfor\u001b[39;00m key, value \u001b[38;5;129;01min\u001b[39;00m kwargs\u001b[38;5;241m.\u001b[39mitems() \u001b[38;5;28;01mif\u001b[39;00m value \u001b[38;5;129;01mis\u001b[39;00m \u001b[38;5;129;01mnot\u001b[39;00m \u001b[38;5;28;01mNone\u001b[39;00m}\n",
      "\u001b[0;31mFileNotFoundError\u001b[0m: [Errno 2] No such file or directory: 'true/CMeIE/lhy/MOELoRA-peft/datasets/test.json'"
     ]
    }
   ],
   "source": [
    "import tqdm\n",
    "# 假设 read_data, save_data, extract_data, partition 函数已经定义\n",
    "# 请确保这些函数的实现与您之前提供的代码一致\n",
    "\n",
    "# 假设 pred_path 和 task_list 已经被定义\n",
    "# pred_path = '/path/to/predictions'  # 预测结果的根目录路径\n",
    "# task_list = ['task1', 'task2', 'task3']  # 任务列表\n",
    "\n",
    "# 定义 read_data 函数（示例）\n",
    "def read_data(data_path):\n",
    "    with jsonlines.open(data_path, \"r\") as f:\n",
    "        data = [meta_data for meta_data in f]\n",
    "    return data\n",
    "\n",
    "# 定义 save_data 函数（示例）\n",
    "def save_data(data_path, data):\n",
    "    with jsonlines.open(data_path, \"w\") as w:\n",
    "        for meta_data in data:\n",
    "            w.write(meta_data)\n",
    "\n",
    "# 定义 extract_data 函数（示例）\n",
    "def extract_data(data):\n",
    "\n",
    "    data_dict = {}\n",
    "\n",
    "    for meta_data in data:\n",
    "        if meta_data['task_dataset'] not in data_dict.keys():\n",
    "            data_dict[meta_data['task_dataset']] = []\n",
    "        data_dict[meta_data['task_dataset']].append(meta_data)\n",
    "    print(\"extract conpletion\")\n",
    "\n",
    "    return data_dict\n",
    "\n",
    "# 定义 partition 函数（示例）\n",
    "def partition(data_dict, task_list, output_path):\n",
    "    for task in task_list:\n",
    "        task_path = os.path.join(output_path, task)\n",
    "        if not os.path.exists(task_path):\n",
    "            os.makedirs(task_path)\n",
    "\n",
    "        save_data(os.path.join(task_path, \"lhy/MOELoRA-peft/datasets/test.json\"), data_dict[task])\n",
    "\n",
    "# 主脚本逻辑\n",
    "# 读取预测结果\n",
    "target_path = \"test.json\"  # 预测结果文件路径\n",
    "all_data = read_data(target_path)\n",
    "\n",
    "# 提取和组织数据\n",
    "extracted_data = extract_data(all_data)\n",
    "\n",
    "# 分区并保存数据\n",
    "partition(extracted_data, task_list, true_path)\n"
   ]
  },
  {
   "cell_type": "code",
   "execution_count": 72,
   "metadata": {},
   "outputs": [],
   "source": [
    "res_data, res_key = [], []\n",
    "for key, value in score_dict.items():\n",
    "    res_data.append(value)\n",
    "    res_key.append(key)\n",
    "\n",
    "res_df = pd.DataFrame(columns=task_list,\n",
    "                      index=res_key,\n",
    "                      data=res_data)\n",
    "res_df[\"average\"] = res_df.mean(axis=1)"
   ]
  },
  {
   "cell_type": "code",
   "execution_count": 73,
   "metadata": {},
   "outputs": [
    {
     "data": {
      "text/html": [
       "<div>\n",
       "<style scoped>\n",
       "    .dataframe tbody tr th:only-of-type {\n",
       "        vertical-align: middle;\n",
       "    }\n",
       "\n",
       "    .dataframe tbody tr th {\n",
       "        vertical-align: top;\n",
       "    }\n",
       "\n",
       "    .dataframe thead th {\n",
       "        text-align: right;\n",
       "    }\n",
       "</style>\n",
       "<table border=\"1\" class=\"dataframe\">\n",
       "  <thead>\n",
       "    <tr style=\"text-align: right;\">\n",
       "      <th></th>\n",
       "      <th>CMeIE</th>\n",
       "      <th>CHIP-CDN</th>\n",
       "      <th>CHIP-CDEE</th>\n",
       "      <th>CHIP-MDCFNPC</th>\n",
       "      <th>CHIP-CTC</th>\n",
       "      <th>KUAKE-QIC</th>\n",
       "      <th>IMCS-V2-MRG</th>\n",
       "      <th>MedDG</th>\n",
       "      <th>average</th>\n",
       "    </tr>\n",
       "  </thead>\n",
       "  <tbody>\n",
       "    <tr>\n",
       "      <th>test_predictions.json</th>\n",
       "      <td>0.432153</td>\n",
       "      <td>0.881279</td>\n",
       "      <td>0.532281</td>\n",
       "      <td>0.786336</td>\n",
       "      <td>0.886364</td>\n",
       "      <td>0.865404</td>\n",
       "      <td>0.376379</td>\n",
       "      <td>0.113989</td>\n",
       "      <td>0.609273</td>\n",
       "    </tr>\n",
       "  </tbody>\n",
       "</table>\n",
       "</div>"
      ],
      "text/plain": [
       "                          CMeIE  CHIP-CDN  CHIP-CDEE  CHIP-MDCFNPC  CHIP-CTC  \\\n",
       "test_predictions.json  0.432153  0.881279   0.532281      0.786336  0.886364   \n",
       "\n",
       "                       KUAKE-QIC  IMCS-V2-MRG     MedDG   average  \n",
       "test_predictions.json   0.865404     0.376379  0.113989  0.609273  "
      ]
     },
     "execution_count": 73,
     "metadata": {},
     "output_type": "execute_result"
    }
   ],
   "source": [
    "res_df.head(20)"
   ]
  },
  {
   "cell_type": "code",
   "execution_count": 74,
   "metadata": {},
   "outputs": [
    {
     "data": {
      "text/html": [
       "<div>\n",
       "<style scoped>\n",
       "    .dataframe tbody tr th:only-of-type {\n",
       "        vertical-align: middle;\n",
       "    }\n",
       "\n",
       "    .dataframe tbody tr th {\n",
       "        vertical-align: top;\n",
       "    }\n",
       "\n",
       "    .dataframe thead th {\n",
       "        text-align: right;\n",
       "    }\n",
       "</style>\n",
       "<table border=\"1\" class=\"dataframe\">\n",
       "  <thead>\n",
       "    <tr style=\"text-align: right;\">\n",
       "      <th></th>\n",
       "      <th>CMeIE</th>\n",
       "      <th>CHIP-CDN</th>\n",
       "      <th>CHIP-CDEE</th>\n",
       "      <th>CHIP-MDCFNPC</th>\n",
       "      <th>CHIP-CTC</th>\n",
       "      <th>KUAKE-QIC</th>\n",
       "      <th>IMCS-V2-MRG</th>\n",
       "      <th>MedDG</th>\n",
       "      <th>average</th>\n",
       "    </tr>\n",
       "  </thead>\n",
       "  <tbody>\n",
       "    <tr>\n",
       "      <th>test_predictions.json</th>\n",
       "      <td>0.432153</td>\n",
       "      <td>0.881279</td>\n",
       "      <td>0.532281</td>\n",
       "      <td>0.786336</td>\n",
       "      <td>0.886364</td>\n",
       "      <td>0.865404</td>\n",
       "      <td>0.376379</td>\n",
       "      <td>0.113989</td>\n",
       "      <td>0.609273</td>\n",
       "    </tr>\n",
       "  </tbody>\n",
       "</table>\n",
       "</div>"
      ],
      "text/plain": [
       "                          CMeIE  CHIP-CDN  CHIP-CDEE  CHIP-MDCFNPC  CHIP-CTC  \\\n",
       "test_predictions.json  0.432153  0.881279   0.532281      0.786336  0.886364   \n",
       "\n",
       "                       KUAKE-QIC  IMCS-V2-MRG     MedDG   average  \n",
       "test_predictions.json   0.865404     0.376379  0.113989  0.609273  "
      ]
     },
     "execution_count": 74,
     "metadata": {},
     "output_type": "execute_result"
    }
   ],
   "source": [
    "try:\n",
    "    new_res_df = res_df.drop(columns=[\"CHIP-STS\", \"KUAKE-IR\", \"average\"])\n",
    "except:\n",
    "    new_res_df = res_df\n",
    "new_res_df[\"average\"] = new_res_df.mean(axis=1)\n",
    "new_res_df.head(50)"
   ]
  },
  {
   "cell_type": "code",
   "execution_count": 75,
   "metadata": {},
   "outputs": [
    {
     "name": "stderr",
     "output_type": "stream",
     "text": [
      "100%|██████████| 600/600 [00:00<00:00, 646603.91it/s]\n"
     ]
    },
    {
     "name": "stdout",
     "output_type": "stream",
     "text": [
      "The score for task CHIP-CDN is: 0.88128\n"
     ]
    },
    {
     "name": "stderr",
     "output_type": "stream",
     "text": [
      "100%|██████████| 600/600 [00:00<00:00, 138868.91it/s]\n"
     ]
    },
    {
     "name": "stdout",
     "output_type": "stream",
     "text": [
      "The score for task CHIP-MDCFNPC is: 0.78634\n",
      "The score for task IMCS-V2-MRG is: 0.37638\n",
      "The score for task KUAKE-QIC is: 0.86540\n"
     ]
    }
   ],
   "source": [
    "for st in [\"CHIP-CDN\", \"CHIP-MDCFNPC\", \"IMCS-V2-MRG\", \"KUAKE-QIC\"]: \n",
    "    score, _, _ = calculate_score(st, \n",
    "                                  \"pred/%s/test_predictions.json\" % st, \n",
    "                                  \"true/%s/test.json\" %st, \n",
    "                                  post_process_function)\n",
    "    print(\"The score for task %s is: %.5f\" % (st, score))"
   ]
  },
  {
   "cell_type": "code",
   "execution_count": null,
   "metadata": {},
   "outputs": [],
   "source": []
  }
 ],
 "metadata": {
  "kernelspec": {
   "display_name": "llm",
   "language": "python",
   "name": "python3"
  },
  "language_info": {
   "codemirror_mode": {
    "name": "ipython",
    "version": 3
   },
   "file_extension": ".py",
   "mimetype": "text/x-python",
   "name": "python",
   "nbconvert_exporter": "python",
   "pygments_lexer": "ipython3",
   "version": "3.9.5"
  },
  "orig_nbformat": 4
 },
 "nbformat": 4,
 "nbformat_minor": 2
}
